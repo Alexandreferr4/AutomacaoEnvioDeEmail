{
 "cells": [
  {
   "cell_type": "code",
   "execution_count": 12,
   "id": "2b8dd191",
   "metadata": {},
   "outputs": [],
   "source": [
    "import pyautogui\n",
    "import time\n",
    "\n",
    "pyautogui.PAUSE = 1\n",
    "# Passo 1: Entar no google drive\n",
    "pyautogui.hotkey(\"ctrl\", \"t\")\n",
    "pyautogui.write(\"https://drive.google.com/drive/folders/1iUbm54CKTYrSpuVo-Dgu7zrWObsKMM1t\")\n",
    "pyautogui.press(\"enter\")\n",
    "#tempo para navegador carregar link\n",
    "time.sleep(5)\n",
    "\n",
    "#Passo 2: Exportar a base de dados\n",
    "#clica no arquvo\n",
    "pyautogui.click(x=517, y=521) \n",
    "#Faz download\n",
    "pyautogui.click(x=633, y=248)\n",
    "time.sleep(3)"
   ]
  },
  {
   "cell_type": "code",
   "execution_count": 9,
   "id": "025ca9ec",
   "metadata": {},
   "outputs": [
    {
     "name": "stdout",
     "output_type": "stream",
     "text": [
      "Point(x=633, y=248)\n"
     ]
    }
   ],
   "source": [
    "time.sleep(5)\n",
    "print(pyautogui.position())"
   ]
  },
  {
   "cell_type": "code",
   "execution_count": null,
   "id": "c53cb692",
   "metadata": {},
   "outputs": [],
   "source": []
  }
 ],
 "metadata": {
  "kernelspec": {
   "display_name": "Python 3 (ipykernel)",
   "language": "python",
   "name": "python3"
  },
  "language_info": {
   "codemirror_mode": {
    "name": "ipython",
    "version": 3
   },
   "file_extension": ".py",
   "mimetype": "text/x-python",
   "name": "python",
   "nbconvert_exporter": "python",
   "pygments_lexer": "ipython3",
   "version": "3.9.13"
  }
 },
 "nbformat": 4,
 "nbformat_minor": 5
}
